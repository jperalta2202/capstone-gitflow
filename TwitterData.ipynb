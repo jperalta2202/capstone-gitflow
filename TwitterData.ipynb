{
 "cells": [
  {
   "cell_type": "code",
   "execution_count": 1,
   "id": "d9b978bf",
   "metadata": {
    "scrolled": true
   },
   "outputs": [],
   "source": [
    "import re\n",
    "import json\n",
    " \n",
    "tweets = []\n",
    "\n",
    "for line in open('farmers-protest-tweets-2021-03-5.json', 'r'):\n",
    "    tweets.append(json.loads(line))\n",
    "    "
   ]
  },
  {
   "cell_type": "code",
   "execution_count": 2,
   "id": "f1b88de4",
   "metadata": {},
   "outputs": [],
   "source": [
    "from TopRetweeted import top_retweeted\n",
    "from TopTweetsUsers import top_tweets_users\n",
    "from TopTweetsDays import top_tweets_days\n",
    "\n",
    "\n",
    "def main(data):\n",
    "    \n",
    "    # Los top 10 tweets más retweeted.\n",
    "    #top_retweeted(data)\n",
    "    \n",
    "    # Los top 10 usuarios en función a la cantidad de tweets que emitieron.\n",
    "    #top_tweets_users(tweets)\n",
    "    \n",
    "    # Los top 10 días donde hay más tweets.\n",
    "    top_tweets_days(tweets)\n",
    "\n",
    "    # Top 10 hashtags más usados.\n"
   ]
  },
  {
   "cell_type": "code",
   "execution_count": 3,
   "id": "f8ea1717",
   "metadata": {},
   "outputs": [
    {
     "name": "stdout",
     "output_type": "stream",
     "text": [
      "--------Top 10 Users With Most Tweets--------\n",
      "Date:  2021-02-03 Tweet Count:  83866\n",
      "Date:  2021-02-04 Tweet Count:  58607\n",
      "Date:  2021-02-05 Tweet Count:  33332\n",
      "Date:  2021-02-02 Tweet Count:  28548\n",
      "Date:  2021-02-06 Tweet Count:  22420\n",
      "Date:  2021-02-07 Tweet Count:  11325\n",
      "Date:  2021-02-09 Tweet Count:  9320\n",
      "Date:  2021-02-08 Tweet Count:  8920\n",
      "Date:  2021-02-10 Tweet Count:  7973\n"
     ]
    }
   ],
   "source": [
    "main(tweets)"
   ]
  },
  {
   "cell_type": "code",
   "execution_count": null,
   "id": "781d4c82",
   "metadata": {},
   "outputs": [],
   "source": []
  },
  {
   "cell_type": "code",
   "execution_count": null,
   "id": "ab2cd4e4",
   "metadata": {},
   "outputs": [],
   "source": []
  }
 ],
 "metadata": {
  "kernelspec": {
   "display_name": "Python 3 (ipykernel)",
   "language": "python",
   "name": "python3"
  },
  "language_info": {
   "codemirror_mode": {
    "name": "ipython",
    "version": 3
   },
   "file_extension": ".py",
   "mimetype": "text/x-python",
   "name": "python",
   "nbconvert_exporter": "python",
   "pygments_lexer": "ipython3",
   "version": "3.10.4"
  }
 },
 "nbformat": 4,
 "nbformat_minor": 5
}
