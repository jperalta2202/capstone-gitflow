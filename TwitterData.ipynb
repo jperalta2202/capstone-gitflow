{
 "cells": [
  {
   "cell_type": "code",
   "execution_count": 7,
   "id": "d9b978bf",
   "metadata": {
    "scrolled": true
   },
   "outputs": [],
   "source": [
    "import re\n",
    "import json\n",
    " \n",
    "tweets = []\n",
    "\n",
    "for line in open('farmers-protest-tweets-2021-03-5.json', 'r'):\n",
    "    tweets.append(json.loads(line))\n"
   ]
  },
  {
   "cell_type": "code",
   "execution_count": 8,
   "id": "f1b88de4",
   "metadata": {},
   "outputs": [],
   "source": [
    "from TopRetweeted import top_retweeted\n",
    "from TopTweetsUsers import top_tweets_users\n",
    "\n",
    "\n",
    "def main(data):\n",
    "    \n",
    "    # Los top 10 tweets más retweeted.\n",
    "    # top_retweeted(data)\n",
    "    \n",
    "    # Los top 10 usuarios en función a la cantidad de tweets que emitieron.\n",
    "    top_tweets_users(tweets)\n",
    "    \n",
    "    # Los top 10 días donde hay más tweets.\n",
    "\n",
    "    # Top 10 hashtags más usados.\n"
   ]
  },
  {
   "cell_type": "code",
   "execution_count": 9,
   "id": "f8ea1717",
   "metadata": {},
   "outputs": [
    {
     "name": "stdout",
     "output_type": "stream",
     "text": [
      "--------Top 10 Users With Most Tweets--------\n",
      "{1322433132684021760: 3, 1332937272581263362: 2, 1015969769760096256: 1, 1308356658582618112: 1, 1357311756532649985: 1, 2918610912: 1, 1237420463581728768: 1, 1361422240223350784: 1, 1309302936317636608: 1, 858383035137273856: 1, 1223488454455066624: 1, 622149895: 1, 1334005845290577923: 1, 1301296949287510016: 1, 1354133374991028232: 1, 1340186972615307264: 1, 1376359508881113091: 1, 135854202: 1}\n"
     ]
    }
   ],
   "source": [
    "main(tweets)"
   ]
  },
  {
   "cell_type": "code",
   "execution_count": null,
   "id": "781d4c82",
   "metadata": {},
   "outputs": [],
   "source": []
  },
  {
   "cell_type": "code",
   "execution_count": null,
   "id": "ab2cd4e4",
   "metadata": {},
   "outputs": [],
   "source": []
  }
 ],
 "metadata": {
  "kernelspec": {
   "display_name": "Python 3 (ipykernel)",
   "language": "python",
   "name": "python3"
  },
  "language_info": {
   "codemirror_mode": {
    "name": "ipython",
    "version": 3
   },
   "file_extension": ".py",
   "mimetype": "text/x-python",
   "name": "python",
   "nbconvert_exporter": "python",
   "pygments_lexer": "ipython3",
   "version": "3.10.4"
  }
 },
 "nbformat": 4,
 "nbformat_minor": 5
}
