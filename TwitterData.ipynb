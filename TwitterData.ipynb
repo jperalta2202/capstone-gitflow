{
 "cells": [
  {
   "cell_type": "code",
   "execution_count": 4,
   "id": "d9b978bf",
   "metadata": {
    "scrolled": true
   },
   "outputs": [],
   "source": [
    "import re\n",
    "import json\n",
    " \n",
    "tweets = []\n",
    "\n",
    "for line in open('farmers-protest-tweets-2021-03-5.json', 'r'):\n",
    "    tweets.append(json.loads(line))\n",
    "    "
   ]
  },
  {
   "cell_type": "code",
   "execution_count": 5,
   "id": "f1b88de4",
   "metadata": {},
   "outputs": [],
   "source": [
    "from TopRetweeted import top_retweeted\n",
    "from TopTweetsUsers import top_tweets_users\n",
    "from TopTweetsDays import top_tweets_days\n",
    "from TopHashtags import top_hashtags\n",
    "\n",
    "\n",
    "def main(data):\n",
    "    \n",
    "    # Los top 10 tweets más retweeted.\n",
    "    #top_retweeted(data)\n",
    "    \n",
    "    # Los top 10 usuarios en función a la cantidad de tweets que emitieron.\n",
    "    #top_tweets_users(tweets)\n",
    "    \n",
    "    # Los top 10 días donde hay más tweets.\n",
    "    #top_tweets_days(tweets)\n",
    "\n",
    "    # Top 10 hashtags más usados.\n",
    "    top_hashtags(tweets)\n",
    "    \n"
   ]
  },
  {
   "cell_type": "code",
   "execution_count": 6,
   "id": "f8ea1717",
   "metadata": {},
   "outputs": [
    {
     "name": "stdout",
     "output_type": "stream",
     "text": [
      "--------Top 10 Users With Most Tweets--------\n",
      "Hashtag:  FarmersProtest Tweet Count:  406613\n",
      "Hashtag:  IStandWithFarmers Tweet Count:  15783\n",
      "Hashtag:  farmersprotest Tweet Count:  15458\n",
      "Hashtag:  IndianFarmersHumanRights Tweet Count:  12019\n",
      "Hashtag:  FarmersAreIndia Tweet Count:  11043\n",
      "Hashtag:  StandWithFarmers Tweet Count:  10645\n",
      "Hashtag:  Rihanna Tweet Count:  9117\n",
      "Hashtag:  FarmersProtests Tweet Count:  8750\n",
      "Hashtag:  Farmers Tweet Count:  6561\n"
     ]
    }
   ],
   "source": [
    "main(tweets)"
   ]
  },
  {
   "cell_type": "code",
   "execution_count": null,
   "id": "781d4c82",
   "metadata": {},
   "outputs": [],
   "source": []
  },
  {
   "cell_type": "code",
   "execution_count": null,
   "id": "ab2cd4e4",
   "metadata": {},
   "outputs": [],
   "source": []
  }
 ],
 "metadata": {
  "kernelspec": {
   "display_name": "Python 3 (ipykernel)",
   "language": "python",
   "name": "python3"
  },
  "language_info": {
   "codemirror_mode": {
    "name": "ipython",
    "version": 3
   },
   "file_extension": ".py",
   "mimetype": "text/x-python",
   "name": "python",
   "nbconvert_exporter": "python",
   "pygments_lexer": "ipython3",
   "version": "3.10.4"
  }
 },
 "nbformat": 4,
 "nbformat_minor": 5
}
