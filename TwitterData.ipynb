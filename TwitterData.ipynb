{
 "cells": [
  {
   "cell_type": "code",
   "execution_count": 1,
   "id": "d9b978bf",
   "metadata": {
    "scrolled": true
   },
   "outputs": [],
   "source": [
    "import json\n",
    " \n",
    "tweets = []\n",
    "\n",
    "for line in open('farmers-protest-tweets-2021-03-5.json', 'r'):\n",
    "    tweets.append(json.loads(line))\n",
    "    "
   ]
  },
  {
   "cell_type": "code",
   "execution_count": 2,
   "id": "f1b88de4",
   "metadata": {},
   "outputs": [],
   "source": [
    "from TopRetweeted import top_retweeted\n",
    "from TopTweetsUsers import top_tweets_users\n",
    "from TopTweetsDays import top_tweets_days\n",
    "from TopHashtags import top_hashtags\n",
    "\n",
    "\n",
    "def main(data):\n",
    "    \n",
    "    # Los top 10 tweets más retweeted.\n",
    "    top_retweeted(data)\n",
    "    print(\"\")\n",
    "    # Los top 10 usuarios en función a la cantidad de tweets que emitieron.\n",
    "    top_tweets_users(tweets)\n",
    "    print(\"\")\n",
    "    # Los top 10 días donde hay más tweets.\n",
    "    top_tweets_days(tweets)\n",
    "    print(\"\")\n",
    "    # Top 10 hashtags más usados.\n",
    "    top_hashtags(tweets)\n",
    "    print(\"\")\n",
    "    \n"
   ]
  },
  {
   "cell_type": "code",
   "execution_count": 3,
   "id": "f8ea1717",
   "metadata": {},
   "outputs": [
    {
     "name": "stdout",
     "output_type": "stream",
     "text": [
      "--------Top 10 Retweeted Tweets--------\n",
      "Id:  1356625889602199552 Retweet Count:  315547\n",
      "Id:  1356694884615340037 Retweet Count:  103957\n",
      "Id:  1357282507616645122 Retweet Count:  67694\n",
      "Id:  1356848397899112448 Retweet Count:  35921\n",
      "Id:  1356827705161879553 Retweet Count:  26972\n",
      "Id:  1357048037302960129 Retweet Count:  23251\n",
      "Id:  1357755699162398720 Retweet Count:  20132\n",
      "Id:  1356681136655769605 Retweet Count:  18744\n",
      "Id:  1357009721090138112 Retweet Count:  17368\n",
      "\n",
      "--------Top 10 Users With Most Tweets--------\n",
      "User Id:  980633168981061632 Tweet Count:  7134\n",
      "User Id:  69027875 Tweet Count:  2091\n",
      "User Id:  2930682630 Tweet Count:  1991\n",
      "User Id:  452391771 Tweet Count:  1841\n",
      "User Id:  1354532795847073796 Tweet Count:  1806\n",
      "User Id:  48085084 Tweet Count:  1722\n",
      "User Id:  872085660886282240 Tweet Count:  1502\n",
      "User Id:  1340186972615307264 Tweet Count:  1460\n",
      "User Id:  1309302936317636608 Tweet Count:  1453\n",
      "\n",
      "--------Top 10 Days With Most Tweets--------\n",
      "Date:  2021-02-03 Tweet Count:  83866\n",
      "Date:  2021-02-04 Tweet Count:  58607\n",
      "Date:  2021-02-05 Tweet Count:  33332\n",
      "Date:  2021-02-02 Tweet Count:  28548\n",
      "Date:  2021-02-06 Tweet Count:  22420\n",
      "Date:  2021-02-07 Tweet Count:  11325\n",
      "Date:  2021-02-09 Tweet Count:  9320\n",
      "Date:  2021-02-08 Tweet Count:  8920\n",
      "Date:  2021-02-10 Tweet Count:  7973\n",
      "\n",
      "--------Top 10 Hashtags With Most Tweets--------\n",
      "Hashtag:  FarmersProtest Tweet Count:  406613\n",
      "Hashtag:  IStandWithFarmers Tweet Count:  15783\n",
      "Hashtag:  farmersprotest Tweet Count:  15458\n",
      "Hashtag:  IndianFarmersHumanRights Tweet Count:  12019\n",
      "Hashtag:  FarmersAreIndia Tweet Count:  11043\n",
      "Hashtag:  StandWithFarmers Tweet Count:  10645\n",
      "Hashtag:  Rihanna Tweet Count:  9117\n",
      "Hashtag:  FarmersProtests Tweet Count:  8750\n",
      "Hashtag:  Farmers Tweet Count:  6561\n",
      "\n"
     ]
    }
   ],
   "source": [
    "main(tweets)"
   ]
  },
  {
   "cell_type": "code",
   "execution_count": null,
   "id": "781d4c82",
   "metadata": {},
   "outputs": [],
   "source": []
  },
  {
   "cell_type": "code",
   "execution_count": null,
   "id": "ab2cd4e4",
   "metadata": {},
   "outputs": [],
   "source": []
  }
 ],
 "metadata": {
  "kernelspec": {
   "display_name": "Python 3 (ipykernel)",
   "language": "python",
   "name": "python3"
  },
  "language_info": {
   "codemirror_mode": {
    "name": "ipython",
    "version": 3
   },
   "file_extension": ".py",
   "mimetype": "text/x-python",
   "name": "python",
   "nbconvert_exporter": "python",
   "pygments_lexer": "ipython3",
   "version": "3.10.4"
  }
 },
 "nbformat": 4,
 "nbformat_minor": 5
}
