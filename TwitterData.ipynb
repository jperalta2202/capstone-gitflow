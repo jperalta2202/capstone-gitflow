{
 "cells": [
  {
   "cell_type": "code",
   "execution_count": 1,
   "id": "d9b978bf",
   "metadata": {
    "scrolled": true
   },
   "outputs": [],
   "source": [
    "import re\n",
    "import json\n",
    " \n",
    "tweets = []\n",
    "for line in open('farmers-protest-tweets-2021-03-5.json', 'r'):\n",
    "    tweets.append(json.loads(line))"
   ]
  },
  {
   "cell_type": "code",
   "execution_count": 2,
   "id": "f1b88de4",
   "metadata": {},
   "outputs": [],
   "source": [
    "from TopRetweeted import top_retweeted\n",
    "\n",
    "def main(data):\n",
    "    \n",
    "    # Los top 10 tweets más retweeted.\n",
    "\n",
    "    top_retweeted(data)\n",
    "    # Los top 10 usuarios en función a la cantidad de tweets que emitieron.\n",
    "    \n",
    "    # Los top 10 días donde hay más tweets.\n",
    "\n",
    "    # Top 10 hashtags más usados.\n"
   ]
  },
  {
   "cell_type": "code",
   "execution_count": 3,
   "id": "f8ea1717",
   "metadata": {},
   "outputs": [
    {
     "name": "stdout",
     "output_type": "stream",
     "text": [
      "--------Top 10 Retweeted Tweets--------\n",
      "1356625889602199552 315547\n",
      "1356694884615340037 103957\n",
      "1357282507616645122 67694\n",
      "1356848397899112448 35921\n",
      "1356827705161879553 26972\n",
      "1357048037302960129 23251\n",
      "1357755699162398720 20132\n",
      "1356681136655769605 18744\n",
      "1357009721090138112 17368\n"
     ]
    }
   ],
   "source": [
    "main(tweets)"
   ]
  },
  {
   "cell_type": "code",
   "execution_count": null,
   "id": "781d4c82",
   "metadata": {},
   "outputs": [],
   "source": []
  },
  {
   "cell_type": "code",
   "execution_count": null,
   "id": "ab2cd4e4",
   "metadata": {},
   "outputs": [],
   "source": []
  }
 ],
 "metadata": {
  "kernelspec": {
   "display_name": "Python 3 (ipykernel)",
   "language": "python",
   "name": "python3"
  },
  "language_info": {
   "codemirror_mode": {
    "name": "ipython",
    "version": 3
   },
   "file_extension": ".py",
   "mimetype": "text/x-python",
   "name": "python",
   "nbconvert_exporter": "python",
   "pygments_lexer": "ipython3",
   "version": "3.10.4"
  }
 },
 "nbformat": 4,
 "nbformat_minor": 5
}
